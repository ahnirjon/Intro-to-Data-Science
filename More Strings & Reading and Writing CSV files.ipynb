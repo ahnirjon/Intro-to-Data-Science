{
 "cells": [
  {
   "cell_type": "code",
   "execution_count": 1,
   "metadata": {
    "scrolled": true
   },
   "outputs": [
    {
     "name": "stdout",
     "output_type": "stream",
     "text": [
      "Nirjon bought 4 item(s) at a price of 3.24 each for a total of 12.96\n"
     ]
    }
   ],
   "source": [
    "sales_record = {\n",
    "'price': 3.24,\n",
    "'num_items': 4,\n",
    "'person': 'Nirjon'}\n",
    "\n",
    "sales_statement = '{} bought {} item(s) at a price of {} each for a total of {}'\n",
    "\n",
    "print(sales_statement.format(sales_record['person'],\n",
    "                             sales_record['num_items'],\n",
    "                             sales_record['price'],\n",
    "                             sales_record['num_items']*sales_record['price']))"
   ]
  },
  {
   "cell_type": "markdown",
   "metadata": {},
   "source": [
    "Reading Files (CSV files) and summarizing Data"
   ]
  },
  {
   "cell_type": "markdown",
   "metadata": {},
   "source": [
    "* mpg : miles per gallon\n",
    "* class : car classification\n",
    "* cty : city mpg\n",
    "* cyl : # of cylinders\n",
    "* displ : engine displacement in liters\n",
    "* drv : f = front-wheel drive, r = rear wheel drive, 4 = 4wd\n",
    "* fl : fuel (e = ethanol E85, d = diesel, r = regular, p = premium, c = CNG)\n",
    "* hwy : highway mpg\n",
    "* manufacturer : automobile manufacturer\n",
    "* model : model of car\n",
    "* trans : type of transmission\n",
    "* year : model year"
   ]
  },
  {
   "cell_type": "code",
   "execution_count": 16,
   "metadata": {},
   "outputs": [
    {
     "data": {
      "text/plain": [
       "'C:\\\\Users\\\\nirjon'"
      ]
     },
     "execution_count": 16,
     "metadata": {},
     "output_type": "execute_result"
    }
   ],
   "source": [
    "import os\n",
    "\n",
    "os.getcwd()"
   ]
  },
  {
   "cell_type": "code",
   "execution_count": 23,
   "metadata": {},
   "outputs": [
    {
     "name": "stdout",
     "output_type": "stream",
     "text": [
      "['YEAR', 'Make', 'Model', 'Size', '(kW)', 'Unnamed: 5', 'TYPE', 'CITY (kWh/100 km)', 'HWY (kWh/100 km)', 'COMB (kWh/100 km)', 'CITY (Le/100 km)', 'HWY (Le/100 km)', 'COMB (Le/100 km)', '(g/km)', 'RATING', '(km)', 'TIME (h)']\n",
      "['2012', 'MITSUBISHI', 'i-MiEV', 'SUBCOMPACT', '49', 'A1', 'B', '16.9', '21.4', '18.7', '1.9', '2.4', '2.1', '0', 'n/a', '100', '7']\n",
      "['2012', 'NISSAN', 'LEAF', 'MID-SIZE', '80', 'A1', 'B', '19.3', '23', '21.1', '2.2', '2.6', '2.4', '0', 'n/a', '117', '7']\n",
      "['2013', 'FORD', 'FOCUS ELECTRIC', 'COMPACT', '107', 'A1', 'B', '19', '21.1', '20', '2.1', '2.4', '2.2', '0', 'n/a', '122', '4']\n",
      "['2013', 'MITSUBISHI', 'i-MiEV', 'SUBCOMPACT', '49', 'A1', 'B', '16.9', '21.4', '18.7', '1.9', '2.4', '2.1', '0', 'n/a', '100', '7']\n",
      "['2013', 'NISSAN', 'LEAF', 'MID-SIZE', '80', 'A1', 'B', '19.3', '23', '21.1', '2.2', '2.6', '2.4', '0', 'n/a', '117', '7']\n",
      "['2013', 'SMART', 'FORTWO ELECTRIC DRIVE CABRIOLET', 'TWO-SEATER', '35', 'A1', 'B', '17.2', '22.5', '19.6', '1.9', '2.5', '2.2', '0', 'n/a', '109', '8']\n",
      "['2013', 'SMART', 'FORTWO ELECTRIC DRIVE COUPE', 'TWO-SEATER', '35', 'A1', 'B', '17.2', '22.5', '19.6', '1.9', '2.5', '2.2', '0', 'n/a', '109', '8']\n",
      "['2013', 'TESLA', 'MODEL S (40 kWh battery)', 'FULL-SIZE', '270', 'A1', 'B', '22.4', '21.9', '22.2', '2.5', '2.5', '2.5', '0', 'n/a', '224', '6']\n",
      "['2013', 'TESLA', 'MODEL S (60 kWh battery)', 'FULL-SIZE', '270', 'A1', 'B', '22.2', '21.7', '21.9', '2.5', '2.4', '2.5', '0', 'n/a', '335', '10']\n",
      "['2013', 'TESLA', 'MODEL S (85 kWh battery)', 'FULL-SIZE', '270', 'A1', 'B', '23.8', '23.2', '23.6', '2.7', '2.6', '2.6', '0', 'n/a', '426', '12']\n",
      "['2013', 'TESLA', 'MODEL S PERFORMANCE', 'FULL-SIZE', '310', 'A1', 'B', '23.9', '23.2', '23.6', '2.7', '2.6', '2.6', '0', 'n/a', '426', '12']\n",
      "['2014', 'CHEVROLET', 'SPARK EV', 'SUBCOMPACT', '104', 'A1', 'B', '16', '19.6', '17.8', '1.8', '2.2', '2', '0', 'n/a', '131', '7']\n",
      "['2014', 'FORD', 'FOCUS ELECTRIC', 'COMPACT', '107', 'A1', 'B', '19', '21.1', '20', '2.1', '2.4', '2.2', '0', 'n/a', '122', '4']\n",
      "['2014', 'MITSUBISHI', 'i-MiEV', 'SUBCOMPACT', '49', 'A1', 'B', '16.9', '21.4', '18.7', '1.9', '2.4', '2.1', '0', 'n/a', '100', '7']\n",
      "['2014', 'NISSAN', 'LEAF', 'MID-SIZE', '80', 'A1', 'B', '16.5', '20.8', '18.4', '1.9', '2.3', '2.1', '0', 'n/a', '135', '5']\n",
      "['2014', 'SMART', 'FORTWO ELECTRIC DRIVE CABRIOLET', 'TWO-SEATER', '35', 'A1', 'B', '17.2', '22.5', '19.6', '1.9', '2.5', '2.2', '0', 'n/a', '109', '8']\n",
      "['2014', 'SMART', 'FORTWO ELECTRIC DRIVE COUPE', 'TWO-SEATER', '35', 'A1', 'B', '17.2', '22.5', '19.6', '1.9', '2.5', '2.2', '0', 'n/a', '109', '8']\n",
      "['2014', 'TESLA', 'MODEL S (60 kWh battery)', 'FULL-SIZE', '225', 'A1', 'B', '22.2', '21.7', '21.9', '2.5', '2.4', '2.5', '0', 'n/a', '335', '10']\n",
      "['2014', 'TESLA', 'MODEL S (85 kWh battery)', 'FULL-SIZE', '270', 'A1', 'B', '23.8', '23.2', '23.6', '2.7', '2.6', '2.6', '0', 'n/a', '426', '12']\n",
      "['2014', 'TESLA', 'MODEL S PERFORMANCE', 'FULL-SIZE', '310', 'A1', 'B', '23.9', '23.2', '23.6', '2.7', '2.6', '2.6', '0', 'n/a', '426', '12']\n",
      "['2015', 'BMW', 'i3', 'SUBCOMPACT', '125', 'A1', 'B', '15.2', '18.8', '16.8', '1.7', '2.1', '1.9', '0', 'n/a', '130', '4']\n",
      "['2015', 'CHEVROLET', 'SPARK EV', 'SUBCOMPACT', '104', 'A1', 'B', '16', '19.6', '17.8', '1.8', '2.2', '2', '0', 'n/a', '131', '7']\n",
      "['2015', 'FORD', 'FOCUS ELECTRIC', 'COMPACT', '107', 'A1', 'B', '19', '21.1', '20', '2.1', '2.4', '2.2', '0', 'n/a', '122', '4']\n",
      "['2015', 'KIA', 'SOUL EV', 'STATION WAGON - SMALL', '81', 'A1', 'B', '17.5', '22.7', '19.9', '2', '2.6', '2.2', '0', 'n/a', '149', '4']\n",
      "['2015', 'MITSUBISHI', 'i-MiEV', 'SUBCOMPACT', '49', 'A1', 'B', '16.9', '21.4', '18.7', '1.9', '2.4', '2.1', '0', 'n/a', '100', '7']\n",
      "['2015', 'NISSAN', 'LEAF', 'MID-SIZE', '80', 'A1', 'B', '16.5', '20.8', '18.4', '1.9', '2.3', '2.1', '0', 'n/a', '135', '5']\n",
      "['2015', 'SMART', 'FORTWO ELECTRIC DRIVE CABRIOLET', 'TWO-SEATER', '35', 'A1', 'B', '17.2', '22.5', '19.6', '1.9', '2.5', '2.2', '0', 'n/a', '109', '8']\n",
      "['2015', 'SMART', 'FORTWO ELECTRIC DRIVE COUPE', 'TWO-SEATER', '35', 'A1', 'B', '17.2', '22.5', '19.6', '1.9', '2.5', '2.2', '0', 'n/a', '109', '8']\n",
      "['2015', 'TESLA', 'MODEL S (60 kWh battery)', 'FULL-SIZE', '283', 'A1', 'B', '22.2', '21.7', '21.9', '2.5', '2.4', '2.5', '0', 'n/a', '335', '10']\n",
      "['2015', 'TESLA', 'MODEL S (70 kWh battery)', 'FULL-SIZE', '283', 'A1', 'B', '23.8', '23.2', '23.6', '2.7', '2.6', '2.6', '0', 'n/a', '377', '12']\n",
      "['2015', 'TESLA', 'MODEL S (85/90 kWh battery)', 'FULL-SIZE', '283', 'A1', 'B', '23.8', '23.2', '23.6', '2.7', '2.6', '2.6', '0', 'n/a', '426', '12']\n",
      "['2015', 'TESLA', 'MODEL S 70D', 'FULL-SIZE', '280', 'A1', 'B', '20.8', '20.6', '20.7', '2.3', '2.3', '2.3', '0', 'n/a', '386', '12']\n",
      "['2015', 'TESLA', 'MODEL S 85D/90D', 'FULL-SIZE', '280', 'A1', 'B', '22', '19.8', '21', '2.5', '2.2', '2.4', '0', 'n/a', '435', '12']\n",
      "['2015', 'TESLA', 'MODEL S P85D/P90D', 'FULL-SIZE', '515', 'A1', 'B', '23.4', '21.5', '22.5', '2.6', '2.4', '2.5', '0', 'n/a', '407', '12']\n",
      "['2016', 'BMW', 'i3', 'SUBCOMPACT', '125', 'A1', 'B', '15.2', '18.8', '16.8', '1.7', '2.1', '1.9', '0', '10', '130', '4']\n",
      "['2016', 'CHEVROLET', 'SPARK EV', 'SUBCOMPACT', '104', 'A1', 'B', '16', '19.6', '17.8', '1.8', '2.2', '2', '0', '10', '131', '7']\n",
      "['2016', 'FORD', 'FOCUS ELECTRIC', 'COMPACT', '107', 'A1', 'B', '19', '21.1', '20', '2.1', '2.4', '2.2', '0', '10', '122', '4']\n",
      "['2016', 'KIA', 'SOUL EV', 'STATION WAGON - SMALL', '81', 'A1', 'B', '17.5', '22.7', '19.9', '2', '2.6', '2.2', '0', '10', '149', '4']\n",
      "['2016', 'MITSUBISHI', 'i-MiEV', 'SUBCOMPACT', '49', 'A1', 'B', '16.9', '21.4', '18.7', '1.9', '2.4', '2.1', '0', '10', '100', '7']\n",
      "['2016', 'NISSAN', 'LEAF (24 kWh battery)', 'MID-SIZE', '80', 'A1', 'B', '16.5', '20.8', '18.4', '1.9', '2.3', '2.1', '0', '10', '135', '5']\n",
      "['2016', 'NISSAN', 'LEAF (30 kWh battery)', 'MID-SIZE', '80', 'A1', 'B', '17', '20.7', '18.6', '1.9', '2.3', '2.1', '0', '10', '172', '6']\n",
      "['2016', 'SMART', 'FORTWO ELECTRIC DRIVE CABRIOLET', 'TWO-SEATER', '35', 'A1', 'B', '17.2', '22.5', '19.6', '1.9', '2.5', '2.2', '0', '10', '109', '8']\n",
      "['2016', 'SMART', 'FORTWO ELECTRIC DRIVE COUPE', 'TWO-SEATER', '35', 'A1', 'B', '17.2', '22.5', '19.6', '1.9', '2.5', '2.2', '0', '10', '109', '8']\n",
      "['2016', 'TESLA', 'MODEL S (60 kWh battery)', 'FULL-SIZE', '283', 'A1', 'B', '22.2', '21.7', '21.9', '2.5', '2.4', '2.5', '0', '10', '335', '10']\n",
      "['2016', 'TESLA', 'MODEL S (70 kWh battery)', 'FULL-SIZE', '283', 'A1', 'B', '23.8', '23.2', '23.6', '2.7', '2.6', '2.6', '0', '10', '377', '12']\n",
      "['2016', 'TESLA', 'MODEL S (85/90 kWh battery)', 'FULL-SIZE', '283', 'A1', 'B', '23.8', '23.2', '23.6', '2.7', '2.6', '2.6', '0', '10', '426', '12']\n",
      "['2016', 'TESLA', 'MODEL S 70D', 'FULL-SIZE', '386', 'A1', 'B', '20.8', '20.6', '20.7', '2.3', '2.3', '2.3', '0', '10', '386', '12']\n",
      "['2016', 'TESLA', 'MODEL S 85D/90D', 'FULL-SIZE', '386', 'A1', 'B', '22', '19.8', '21', '2.5', '2.2', '2.4', '0', '10', '435', '12']\n",
      "['2016', 'TESLA', 'MODEL S 90D (Refresh)', 'FULL-SIZE', '386', 'A1', 'B', '20.8', '19.7', '20.3', '2.3', '2.2', '2.3', '0', '10', '473', '12']\n",
      "['2016', 'TESLA', 'MODEL S P85D/P90D', 'FULL-SIZE', '568', 'A1', 'B', '23.4', '21.5', '22.5', '2.6', '2.4', '2.5', '0', '10', '407', '12']\n",
      "['2016', 'TESLA', 'MODEL S P90D (Refresh)', 'FULL-SIZE', '568', 'A1', 'B', '22.9', '21', '22.1', '2.6', '2.4', '2.5', '0', '10', '435', '12']\n",
      "['2016', 'TESLA', 'MODEL X 90D', 'SUV - STANDARD', '386', 'A1', 'B', '23.2', '22.2', '22.7', '2.6', '2.5', '2.6', '0', '10', '414', '12']\n",
      "['2016', 'TESLA', 'MODEL X P90D', 'SUV - STANDARD', '568', 'A1', 'B', '23.6', '23.3', '23.5', '2.7', '2.6', '2.6', '0', '10', '402', '12']\n"
     ]
    }
   ],
   "source": [
    "import csv\n",
    "%precision 2\n",
    "with open('cars.csv','r')as csv_file:\n",
    "    csv_reader = csv.reader(csv_file)\n",
    "    \n",
    "    for line in csv_reader:\n",
    "        print(line)"
   ]
  },
  {
   "cell_type": "markdown",
   "metadata": {},
   "source": [
    "if we want to only show the colomn \"Model\" by only changing print(line[2])"
   ]
  },
  {
   "cell_type": "code",
   "execution_count": 33,
   "metadata": {
    "scrolled": true
   },
   "outputs": [
    {
     "name": "stdout",
     "output_type": "stream",
     "text": [
      "Model\n",
      "i-MiEV\n",
      "LEAF\n",
      "FOCUS ELECTRIC\n",
      "i-MiEV\n",
      "LEAF\n",
      "FORTWO ELECTRIC DRIVE CABRIOLET\n",
      "FORTWO ELECTRIC DRIVE COUPE\n",
      "MODEL S (40 kWh battery)\n",
      "MODEL S (60 kWh battery)\n",
      "MODEL S (85 kWh battery)\n",
      "MODEL S PERFORMANCE\n",
      "SPARK EV\n",
      "FOCUS ELECTRIC\n",
      "i-MiEV\n",
      "LEAF\n",
      "FORTWO ELECTRIC DRIVE CABRIOLET\n",
      "FORTWO ELECTRIC DRIVE COUPE\n",
      "MODEL S (60 kWh battery)\n",
      "MODEL S (85 kWh battery)\n",
      "MODEL S PERFORMANCE\n",
      "i3\n",
      "SPARK EV\n",
      "FOCUS ELECTRIC\n",
      "SOUL EV\n",
      "i-MiEV\n",
      "LEAF\n",
      "FORTWO ELECTRIC DRIVE CABRIOLET\n",
      "FORTWO ELECTRIC DRIVE COUPE\n",
      "MODEL S (60 kWh battery)\n",
      "MODEL S (70 kWh battery)\n",
      "MODEL S (85/90 kWh battery)\n",
      "MODEL S 70D\n",
      "MODEL S 85D/90D\n",
      "MODEL S P85D/P90D\n",
      "i3\n",
      "SPARK EV\n",
      "FOCUS ELECTRIC\n",
      "SOUL EV\n",
      "i-MiEV\n",
      "LEAF (24 kWh battery)\n",
      "LEAF (30 kWh battery)\n",
      "FORTWO ELECTRIC DRIVE CABRIOLET\n",
      "FORTWO ELECTRIC DRIVE COUPE\n",
      "MODEL S (60 kWh battery)\n",
      "MODEL S (70 kWh battery)\n",
      "MODEL S (85/90 kWh battery)\n",
      "MODEL S 70D\n",
      "MODEL S 85D/90D\n",
      "MODEL S 90D (Refresh)\n",
      "MODEL S P85D/P90D\n",
      "MODEL S P90D (Refresh)\n",
      "MODEL X 90D\n",
      "MODEL X P90D\n"
     ]
    }
   ],
   "source": [
    "import csv\n",
    "%precision 2\n",
    "with open('cars.csv','r')as csv_file:\n",
    "    csv_reader = csv.reader(csv_file)\n",
    "    \n",
    "    for line in csv_reader:\n",
    "        print(line[2])\n"
   ]
  },
  {
   "cell_type": "markdown",
   "metadata": {},
   "source": []
  },
  {
   "cell_type": "code",
   "execution_count": null,
   "metadata": {},
   "outputs": [],
   "source": []
  },
  {
   "cell_type": "code",
   "execution_count": null,
   "metadata": {},
   "outputs": [],
   "source": []
  },
  {
   "cell_type": "code",
   "execution_count": null,
   "metadata": {},
   "outputs": [],
   "source": []
  },
  {
   "cell_type": "code",
   "execution_count": null,
   "metadata": {},
   "outputs": [],
   "source": []
  },
  {
   "cell_type": "code",
   "execution_count": null,
   "metadata": {},
   "outputs": [],
   "source": []
  }
 ],
 "metadata": {
  "kernelspec": {
   "display_name": "Python 3",
   "language": "python",
   "name": "python3"
  },
  "language_info": {
   "codemirror_mode": {
    "name": "ipython",
    "version": 3
   },
   "file_extension": ".py",
   "mimetype": "text/x-python",
   "name": "python",
   "nbconvert_exporter": "python",
   "pygments_lexer": "ipython3",
   "version": "3.7.4"
  }
 },
 "nbformat": 4,
 "nbformat_minor": 2
}
